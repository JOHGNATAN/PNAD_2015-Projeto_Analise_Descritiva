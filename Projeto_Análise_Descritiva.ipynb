{
 "cells": [
  {
   "cell_type": "markdown",
   "metadata": {
    "colab_type": "text",
    "id": "cVgsZ_E3jQKg"
   },
   "source": [
    "# <font color=green>DATASET DO PROJETO</font>\n",
    "***"
   ]
  },
  {
   "cell_type": "markdown",
   "metadata": {
    "colab_type": "text",
    "id": "iN1gIbaKjQKh"
   },
   "source": [
    "### Pesquisa Nacional por Amostra de Domicílios - 2015\n",
    "\n",
    "A <b>Pesquisa Nacional por Amostra de Domicílios - PNAD</b> investiga anualmente, de forma permanente, características gerais da população, de educação, trabalho, rendimento e habitação e outras, com periodicidade variável, de acordo com as necessidades de informação para o país, como as características sobre migração, fecundidade, nupcialidade, saúde, segurança alimentar, entre outros temas. O levantamento dessas estatísticas constitui, ao longo dos 49 anos de realização da pesquisa, um importante instrumento para formulação, validação e avaliação de políticas orientadas para o desenvolvimento socioeconômico e a melhoria das condições de vida no Brasil."
   ]
  },
  {
   "cell_type": "markdown",
   "metadata": {
    "colab_type": "text",
    "id": "U6V7br1RjQKi"
   },
   "source": [
    "### Fonte dos Dados\n",
    "\n",
    "https://ww2.ibge.gov.br/home/estatistica/populacao/trabalhoerendimento/pnad2015/microdados.shtm"
   ]
  },
  {
   "cell_type": "markdown",
   "metadata": {
    "colab_type": "text",
    "id": "r0Fe_qnzjQKj"
   },
   "source": [
    "### Variáveis utilizadas\n",
    "\n",
    "> ### Renda\n",
    "> ***\n",
    "\n",
    "Rendimento mensal do trabalho principal para pessoas de 10 anos ou mais de idade.\n",
    "\n",
    "> ### Idade\n",
    "> ***\n",
    "\n",
    "Idade do morador na data de referência em anos.\n",
    "\n",
    "> ### Altura (elaboração própria)\n",
    "> ***\n",
    "\n",
    "Altura do morador em metros.\n",
    "\n",
    "> ### UF\n",
    "> ***\n",
    "\n",
    "|Código|Descrição|\n",
    "|---|---|\n",
    "|11|Rondônia|\n",
    "|12|Acre|\n",
    "|13|Amazonas|\n",
    "|14|Roraima|\n",
    "|15|Pará|\n",
    "|16|Amapá|\n",
    "|17|Tocantins|\n",
    "|21|Maranhão|\n",
    "|22|Piauí|\n",
    "|23|Ceará|\n",
    "|24|Rio Grande do Norte|\n",
    "|25|Paraíba|\n",
    "|26|Pernambuco|\n",
    "|27|Alagoas|\n",
    "|28|Sergipe|\n",
    "|29|Bahia|\n",
    "|31|Minas Gerais|\n",
    "|32|Espírito Santo|\n",
    "|33|Rio de Janeiro|\n",
    "|35|São Paulo|\n",
    "|41|Paraná|\n",
    "|42|Santa Catarina|\n",
    "|43|Rio Grande do Sul|\n",
    "|50|Mato Grosso do Sul|\n",
    "|51|Mato Grosso|\n",
    "|52|Goiás|\n",
    "|53|Distrito Federal|\n",
    "\n",
    "> ### Sexo\t\n",
    "> ***\n",
    "\n",
    "|Código|Descrição|\n",
    "|---|---|\n",
    "|0|Masculino|\n",
    "|1|Feminino|\n",
    "\n",
    "> ### Anos de Estudo\n",
    "> ***\n",
    "\n",
    "|Código|Descrição|\n",
    "|---|---|\n",
    "|1|Sem instrução e menos de 1 ano|\n",
    "|2|1 ano|\n",
    "|3|2 anos|\n",
    "|4|3 anos|\n",
    "|5|4 anos|\n",
    "|6|5 anos|\n",
    "|7|6 anos|\n",
    "|8|7 anos|\n",
    "|9|8 anos|\n",
    "|10|9 anos|\n",
    "|11|10 anos|\n",
    "|12|11 anos|\n",
    "|13|12 anos|\n",
    "|14|13 anos|\n",
    "|15|14 anos|\n",
    "|16|15 anos ou mais|\n",
    "|17|Não determinados| \n",
    "||Não aplicável|\n",
    "\n",
    "> ### Cor\n",
    "> ***\n",
    "\n",
    "|Código|Descrição|\n",
    "|---|---|\n",
    "|0|Indígena|\n",
    "|2|Branca|\n",
    "|4|Preta|\n",
    "|6|Amarela|\n",
    "|8|Parda|\n",
    "|9|Sem declaração|"
   ]
  },
  {
   "cell_type": "markdown",
   "metadata": {
    "colab_type": "text",
    "id": "OK1IQH5cX7Gb"
   },
   "source": [
    "#### <font color='red'>Observação</font>\n",
    "***\n",
    "> Os seguintes tratamentos foram realizados nos dados originais:\n",
    "> 1. Foram eliminados os registros onde a <b>Renda</b> era inválida (999 999 999 999);\n",
    "> 2. Foram eliminados os registros onde a <b>Renda</b> era missing;\n",
    "> 3. Foram considerados somente os registros das <b>Pessoas de Referência</b> de cada domicílio (responsável pelo domicílio)."
   ]
  },
  {
   "cell_type": "markdown",
   "metadata": {
    "colab_type": "text",
    "id": "ZIqLOffNTg1Y"
   },
   "source": [
    "***\n",
    "***"
   ]
  },
  {
   "cell_type": "code",
   "execution_count": 1,
   "metadata": {
    "colab": {},
    "colab_type": "code",
    "id": "fcTgimHBybMz"
   },
   "outputs": [],
   "source": [
    "import pandas as pd \n",
    "import numpy as np\n",
    "import seaborn as sns"
   ]
  },
  {
   "cell_type": "code",
   "execution_count": 2,
   "metadata": {
    "colab": {},
    "colab_type": "code",
    "id": "ufRZ7TLwjQKo"
   },
   "outputs": [
    {
     "data": {
      "text/html": [
       "<div>\n",
       "<style scoped>\n",
       "    .dataframe tbody tr th:only-of-type {\n",
       "        vertical-align: middle;\n",
       "    }\n",
       "\n",
       "    .dataframe tbody tr th {\n",
       "        vertical-align: top;\n",
       "    }\n",
       "\n",
       "    .dataframe thead th {\n",
       "        text-align: right;\n",
       "    }\n",
       "</style>\n",
       "<table border=\"1\" class=\"dataframe\">\n",
       "  <thead>\n",
       "    <tr style=\"text-align: right;\">\n",
       "      <th></th>\n",
       "      <th>UF</th>\n",
       "      <th>Sexo</th>\n",
       "      <th>Idade</th>\n",
       "      <th>Cor</th>\n",
       "      <th>Anos de Estudo</th>\n",
       "      <th>Renda</th>\n",
       "      <th>Altura</th>\n",
       "    </tr>\n",
       "  </thead>\n",
       "  <tbody>\n",
       "    <tr>\n",
       "      <th>0</th>\n",
       "      <td>11</td>\n",
       "      <td>0</td>\n",
       "      <td>23</td>\n",
       "      <td>8</td>\n",
       "      <td>12</td>\n",
       "      <td>800</td>\n",
       "      <td>1.603808</td>\n",
       "    </tr>\n",
       "    <tr>\n",
       "      <th>1</th>\n",
       "      <td>11</td>\n",
       "      <td>1</td>\n",
       "      <td>23</td>\n",
       "      <td>2</td>\n",
       "      <td>12</td>\n",
       "      <td>1150</td>\n",
       "      <td>1.739790</td>\n",
       "    </tr>\n",
       "    <tr>\n",
       "      <th>2</th>\n",
       "      <td>11</td>\n",
       "      <td>1</td>\n",
       "      <td>35</td>\n",
       "      <td>8</td>\n",
       "      <td>15</td>\n",
       "      <td>880</td>\n",
       "      <td>1.760444</td>\n",
       "    </tr>\n",
       "    <tr>\n",
       "      <th>3</th>\n",
       "      <td>11</td>\n",
       "      <td>0</td>\n",
       "      <td>46</td>\n",
       "      <td>2</td>\n",
       "      <td>6</td>\n",
       "      <td>3500</td>\n",
       "      <td>1.783158</td>\n",
       "    </tr>\n",
       "    <tr>\n",
       "      <th>4</th>\n",
       "      <td>11</td>\n",
       "      <td>1</td>\n",
       "      <td>47</td>\n",
       "      <td>8</td>\n",
       "      <td>9</td>\n",
       "      <td>150</td>\n",
       "      <td>1.690631</td>\n",
       "    </tr>\n",
       "  </tbody>\n",
       "</table>\n",
       "</div>"
      ],
      "text/plain": [
       "   UF  Sexo  Idade  Cor  Anos de Estudo  Renda    Altura\n",
       "0  11     0     23    8              12    800  1.603808\n",
       "1  11     1     23    2              12   1150  1.739790\n",
       "2  11     1     35    8              15    880  1.760444\n",
       "3  11     0     46    2               6   3500  1.783158\n",
       "4  11     1     47    8               9    150  1.690631"
      ]
     },
     "execution_count": 2,
     "metadata": {},
     "output_type": "execute_result"
    }
   ],
   "source": [
    "dados = pd.read_csv(\"C:/Users/JOHGNATAN/OneDrive/Área de Trabalho/Python_Data_Science/base_de_dados_diversos/dados.csv\",\n",
    "                    sep = ',')\n",
    "dados.head()"
   ]
  },
  {
   "cell_type": "markdown",
   "metadata": {
    "colab_type": "text",
    "id": "HDrFJQitTg1n"
   },
   "source": [
    "### Para avaliarmos o comportamento da variável RENDA vamos construir uma tabela de frequências considerando as seguintes classes em salários mínimos (SM)\n",
    "\n",
    "Classes de renda:\n",
    "\n",
    "<b>A</b> ► Acima de 25 SM\n",
    "\n",
    "<b>B</b> ► De 15 a 25 SM\n",
    "\n",
    "<b>C</b> ► De 5 a 15 SM\n",
    "\n",
    "<b>D</b> ► De 2 a 5 SM\n",
    "\n",
    "<b>E</b> ► Até 2 SM\n",
    "\n",
    "Salário mínimo <b>R$ 788,00</b>.\n",
    "\n"
   ]
  },
  {
   "cell_type": "markdown",
   "metadata": {
    "colab_type": "text",
    "id": "zJBkeGxiTg1o"
   },
   "source": [
    "<p> O código analisa a distribuição de renda de uma determinada população e cria um relatório que apresenta a frequência e o percentual de pessoas em cada classe de renda. Para isso, o código define intervalos de renda pré-determinados e atribui rótulos a cada classe. </p>"
   ]
  },
  {
   "cell_type": "code",
   "execution_count": 4,
   "metadata": {
    "colab": {},
    "colab_type": "code",
    "id": "-Ct3QUj6Tg1p"
   },
   "outputs": [
    {
     "data": {
      "text/plain": [
       "[0, 1576, 3940, 11820, 19700, 200000]"
      ]
     },
     "execution_count": 4,
     "metadata": {},
     "output_type": "execute_result"
    }
   ],
   "source": [
    "classes = [dados.Renda.min(),\n",
    "           2 * 788,\n",
    "           5 * 788,\n",
    "           15 * 788,\n",
    "           25 * 788,\n",
    "           dados['Renda'].max()]\n",
    "classes\n"
   ]
  },
  {
   "cell_type": "code",
   "execution_count": 5,
   "metadata": {
    "colab": {},
    "colab_type": "code",
    "id": "4UFOzitTTg1u"
   },
   "outputs": [],
   "source": [
    "labels = ['E', 'D', 'C', 'B', 'A']"
   ]
  },
  {
   "cell_type": "markdown",
   "metadata": {
    "colab_type": "text",
    "id": "umFq1o-UTg1w"
   },
   "source": [
    "<p>Em seguida, criamos a frequência de renda em cada classe, e um novo conjunto de dados é criado para mostrar o percentual de pessoas em cada classe. </p>"
   ]
  },
  {
   "cell_type": "code",
   "execution_count": 6,
   "metadata": {
    "colab": {},
    "colab_type": "code",
    "id": "uSztBoqOTg1x"
   },
   "outputs": [
    {
     "data": {
      "text/plain": [
       "E    49755\n",
       "D    18602\n",
       "C     7241\n",
       "B      822\n",
       "A      420\n",
       "Name: Renda, dtype: int64"
      ]
     },
     "execution_count": 6,
     "metadata": {},
     "output_type": "execute_result"
    }
   ],
   "source": [
    "freq = pd.value_counts(pd.cut(x = dados['Renda'],\n",
    "       bins = classes,\n",
    "       labels = labels,\n",
    "       include_lowest = True))\n",
    "freq"
   ]
  },
  {
   "cell_type": "code",
   "execution_count": 7,
   "metadata": {
    "colab": {},
    "colab_type": "code",
    "id": "rdwUABsnTg12"
   },
   "outputs": [
    {
     "data": {
      "text/plain": [
       "E    64.751432\n",
       "D    24.208745\n",
       "C     9.423477\n",
       "B     1.069755\n",
       "A     0.546590\n",
       "Name: Renda, dtype: float64"
      ]
     },
     "execution_count": 7,
     "metadata": {},
     "output_type": "execute_result"
    }
   ],
   "source": [
    "percentual = pd.value_counts(pd.cut(x = dados['Renda'],\n",
    "                                    bins = classes,\n",
    "                                    labels = labels,\n",
    "                                    include_lowest = True), normalize = True)*100\n",
    "percentual"
   ]
  },
  {
   "cell_type": "markdown",
   "metadata": {
    "colab_type": "text",
    "id": "9dvk6-9_Tg16"
   },
   "source": [
    "<p>Por fim, um dataframe é criado para armazenar as informações de frequência e percentual em cada classe de renda, e é utilizado para gerar um relatório final sobre a distribuição de renda da população em questão.</p>"
   ]
  },
  {
   "cell_type": "code",
   "execution_count": 11,
   "metadata": {
    "colab": {},
    "colab_type": "code",
    "id": "tO_bcMmgTg16"
   },
   "outputs": [
    {
     "data": {
      "text/html": [
       "<div>\n",
       "<style scoped>\n",
       "    .dataframe tbody tr th:only-of-type {\n",
       "        vertical-align: middle;\n",
       "    }\n",
       "\n",
       "    .dataframe tbody tr th {\n",
       "        vertical-align: top;\n",
       "    }\n",
       "\n",
       "    .dataframe thead th {\n",
       "        text-align: right;\n",
       "    }\n",
       "</style>\n",
       "<table border=\"1\" class=\"dataframe\">\n",
       "  <thead>\n",
       "    <tr style=\"text-align: right;\">\n",
       "      <th></th>\n",
       "      <th>Frequência</th>\n",
       "      <th>Percentual (%)</th>\n",
       "    </tr>\n",
       "  </thead>\n",
       "  <tbody>\n",
       "    <tr>\n",
       "      <th>E</th>\n",
       "      <td>49755</td>\n",
       "      <td>64.751432</td>\n",
       "    </tr>\n",
       "    <tr>\n",
       "      <th>D</th>\n",
       "      <td>18602</td>\n",
       "      <td>24.208745</td>\n",
       "    </tr>\n",
       "    <tr>\n",
       "      <th>C</th>\n",
       "      <td>7241</td>\n",
       "      <td>9.423477</td>\n",
       "    </tr>\n",
       "    <tr>\n",
       "      <th>B</th>\n",
       "      <td>822</td>\n",
       "      <td>1.069755</td>\n",
       "    </tr>\n",
       "    <tr>\n",
       "      <th>A</th>\n",
       "      <td>420</td>\n",
       "      <td>0.546590</td>\n",
       "    </tr>\n",
       "  </tbody>\n",
       "</table>\n",
       "</div>"
      ],
      "text/plain": [
       "   Frequência  Percentual (%)\n",
       "E       49755       64.751432\n",
       "D       18602       24.208745\n",
       "C        7241        9.423477\n",
       "B         822        1.069755\n",
       "A         420        0.546590"
      ]
     },
     "execution_count": 11,
     "metadata": {},
     "output_type": "execute_result"
    }
   ],
   "source": [
    "\n",
    "report = pd.concat([freq, percentual], axis = 1)\n",
    "report.columns = ['Frequência', 'Percentual (%)']\n",
    "\n",
    "report"
   ]
  },
  {
   "cell_type": "code",
   "execution_count": 177,
   "metadata": {
    "colab": {},
    "colab_type": "code",
    "id": "e4mDPKf1Tg18"
   },
   "outputs": [
    {
     "data": {
      "text/plain": [
       "<AxesSubplot:>"
      ]
     },
     "execution_count": 177,
     "metadata": {},
     "output_type": "execute_result"
    },
    {
     "data": {
      "image/png": "[encoded data removed]",
      "text/plain": [
       "<Figure size 1008x432 with 1 Axes>"
      ]
     },
     "metadata": {
      "needs_background": "light"
     },
     "output_type": "display_data"
    }
   ],
   "source": [
    "report['Frequência'].plot.bar(width = 1 ,\n",
    "                              color = 'blue',\n",
    "                              alpha = 0.5,\n",
    "                              figsize = (14,6))"
   ]
  },
  {
   "cell_type": "markdown",
   "metadata": {},
   "source": [
    "<li>O gráfico apresenta a frequência de pessoas em cada classe de renda. O objetivo é apresentar visualmente a distribuição de renda da população em questão.</li>\n",
    "\n"
   ]
  },
  {
   "cell_type": "markdown",
   "metadata": {
    "colab_type": "text",
    "id": "yt-gFm93Tg1-"
   },
   "source": [
    "### Histograma para as variáveis QUANTITATIVAS de nosso dataset\n"
   ]
  },
  {
   "cell_type": "code",
   "execution_count": 178,
   "metadata": {
    "colab": {},
    "colab_type": "code",
    "id": "DYjq9xasTg1_"
   },
   "outputs": [
    {
     "data": {
      "text/plain": [
       "<AxesSubplot:title={'center':'Distribuição de Frequências - Altura'}, xlabel='Metros'>"
      ]
     },
     "execution_count": 178,
     "metadata": {},
     "output_type": "execute_result"
    },
    {
     "data": {
      "image/png": "[encoded data removed]",
      "text/plain": [
       "<Figure size 1008x432 with 1 Axes>"
      ]
     },
     "metadata": {
      "needs_background": "light"
     },
     "output_type": "display_data"
    }
   ],
   "source": [
    "ax = sns.distplot(dados['Altura'])\n",
    "ax.figure.set_size_inches(14,6)\n",
    "ax.set_title('Distribuição de Frequências - Altura', fontsize = 18)\n",
    "ax.set_xlabel('Metros', fontsize = 18)\n",
    "ax"
   ]
  },
  {
   "cell_type": "code",
   "execution_count": 179,
   "metadata": {
    "colab": {},
    "colab_type": "code",
    "id": "uh2CWIG8Tg2A"
   },
   "outputs": [
    {
     "data": {
      "text/plain": [
       "<AxesSubplot:title={'center':'Distribuição de Frequência - Idade'}, xlabel='Anos'>"
      ]
     },
     "execution_count": 179,
     "metadata": {},
     "output_type": "execute_result"
    },
    {
     "data": {
      "image/png": "[encoded data removed]",
      "text/plain": [
       "<Figure size 1008x432 with 1 Axes>"
      ]
     },
     "metadata": {
      "needs_background": "light"
     },
     "output_type": "display_data"
    }
   ],
   "source": [
    "ax = sns.distplot(dados.Idade)\n",
    "ax.figure.set_size_inches(14,6)\n",
    "ax.set_title('Distribuição de Frequência - Idade', fontsize = 18)\n",
    "ax.set_xlabel('Anos', fontsize = 18)\n",
    "ax"
   ]
  },
  {
   "cell_type": "code",
   "execution_count": 180,
   "metadata": {
    "colab": {},
    "colab_type": "code",
    "id": "s55WPk1aTg2C"
   },
   "outputs": [
    {
     "data": {
      "text/plain": [
       "<AxesSubplot:title={'center':'Distribuição de Frequências - Renda'}, xlabel='R$'>"
      ]
     },
     "execution_count": 180,
     "metadata": {},
     "output_type": "execute_result"
    },
    {
     "data": {
      "image/png": "[encoded data removed]",
      "text/plain": [
       "<Figure size 1008x432 with 1 Axes>"
      ]
     },
     "metadata": {
      "needs_background": "light"
     },
     "output_type": "display_data"
    }
   ],
   "source": [
    "ax = sns.distplot(dados['Renda'])\n",
    "ax.figure.set_size_inches(14,6)\n",
    "ax.set_title('Distribuição de Frequências - Renda', fontsize = 18)\n",
    "ax.set_xlabel('R$', fontsize = 18)\n",
    "ax"
   ]
  },
  {
   "cell_type": "markdown",
   "metadata": {
    "colab_type": "text",
    "id": "pnAH1T5fTg2F"
   },
   "source": [
    "### Para a variável RENDA, vamos criar um histograma com as informações das pessoas com rendimento até R$ 20.000,00"
   ]
  },
  {
   "cell_type": "code",
   "execution_count": 14,
   "metadata": {
    "colab": {},
    "colab_type": "code",
    "id": "C7zHF1vPTg2G"
   },
   "outputs": [
    {
     "data": {
      "text/plain": [
       "<AxesSubplot:title={'center':'Distribuição de Frequências - RENDA - Pessoas com renda até R$20.000,00'}, xlabel='R$'>"
      ]
     },
     "execution_count": 14,
     "metadata": {},
     "output_type": "execute_result"
    },
    {
     "data": {
      "image/png": "[encoded data removed]",
      "text/plain": [
       "<Figure size 1008x432 with 1 Axes>"
      ]
     },
     "metadata": {
      "needs_background": "light"
     },
     "output_type": "display_data"
    }
   ],
   "source": [
    "ax = sns.distplot(dados.query('Renda < 20000')['Renda'])\n",
    "ax.figure.set_size_inches(14,6)\n",
    "ax.set_title('Distribuição de Frequências - RENDA - Pessoas com renda até R$20.000,00', fontsize = 18)\n",
    "ax.set_xlabel('R$', fontsize = 14)\n",
    "ax"
   ]
  },
  {
   "cell_type": "code",
   "execution_count": 16,
   "metadata": {},
   "outputs": [
    {
     "data": {
      "image/png": "[encoded data removed]",
      "text/plain": [
       "<Figure size 432x288 with 1 Axes>"
      ]
     },
     "metadata": {
      "needs_background": "light"
     },
     "output_type": "display_data"
    }
   ],
   "source": [
    "selecao = (dados.Renda < 20000)\n",
    "hist_de_ate_20 = dados[selecao]\n",
    "histograma = hist_de_ate_20.hist(['Renda'], alpha = 0.5)"
   ]
  },
  {
   "cell_type": "markdown",
   "metadata": {
    "colab_type": "text",
    "id": "vvtzLOUKTg2H"
   },
   "source": [
    "<li>O código define quatro dicionários que serão utilizados para mapear valores de variáveis categóricas em seus respectivos rótulos. O primeiro dicionário, \"sexo\", associa o valor <strong>0</strong> a <strong>\"Masculino\"</strong> e o valor <strong>1</strong> a <strong>\"Feminino\"</strong>. O segundo dicionário, \"cor\", mapeia os valores <strong>0, 2, 4, 6</strong> e <strong>8</strong> em <strong>\"Indígena\", \"Branca\", \"Preta\", \"Amarela\"</strong> e <strong>\"Parda\"</strong>, respectivamente. O terceiro dicionário, <strong>\"anos_de_estudo\"</strong>, associa os números de <strong>1 a 17</strong> a descrições de anos de estudo. Por fim, o dicionário <strong>\"UF\"</strong> mapeia os valores dos códigos das unidades federativas do Brasil em seus respectivos nomes. A utilização desses dicionários é útil para dar significado aos valores categóricos em um conjunto de dados e para facilitar a análise e interpretação dos resultados.</li>"
   ]
  },
  {
   "cell_type": "code",
   "execution_count": 19,
   "metadata": {
    "colab": {},
    "colab_type": "code",
    "id": "sChJRo_qTg2I"
   },
   "outputs": [],
   "source": [
    "sexo = {\n",
    "    0: 'Masculino', \n",
    "    1: 'Feminino'\n",
    "}\n",
    "cor = {\n",
    "    0: 'Indígena', \n",
    "    2: 'Branca', \n",
    "    4: 'Preta', \n",
    "    6: 'Amarela', \n",
    "    8: 'Parda'\n",
    "}\n",
    "anos_de_estudo = {\n",
    "    1: 'Sem instrução e menos de 1 ano', \n",
    "    2: '1 ano', \n",
    "    3: '2 anos', \n",
    "    4: '3 anos', \n",
    "    5: '4 anos', \n",
    "    6: '5 anos', \n",
    "    7: '6 anos', \n",
    "    8: '7 anos', \n",
    "    9: '8 anos', \n",
    "    10: '9 anos', \n",
    "    11: '10 anos', \n",
    "    12: '11 anos', \n",
    "    13: '12 anos', \n",
    "    14: '13 anos', \n",
    "    15: '14 anos', \n",
    "    16: '15 anos ou mais', \n",
    "    17: 'Não determinados'\n",
    "}\n",
    "uf = {\n",
    "    11: 'Rondônia', \n",
    "    12: 'Acre', \n",
    "    13: 'Amazonas', \n",
    "    14: 'Roraima', \n",
    "    15: 'Pará', \n",
    "    16: 'Amapá', \n",
    "    17: 'Tocantins', \n",
    "    21: 'Maranhão', \n",
    "    22: 'Piauí', \n",
    "    23: 'Ceará', \n",
    "    24: 'Rio Grande do Norte', \n",
    "    25: 'Paraíba', \n",
    "    26: 'Pernambuco', \n",
    "    27: 'Alagoas', \n",
    "    28: 'Sergipe', \n",
    "    29: 'Bahia', \n",
    "    31: 'Minas Gerais', \n",
    "    32: 'Espírito Santo', \n",
    "    33: 'Rio de Janeiro', \n",
    "    35: 'São Paulo', \n",
    "    41: 'Paraná', \n",
    "    42: 'Santa Catarina', \n",
    "    43: 'Rio Grande do Sul', \n",
    "    50: 'Mato Grosso do Sul', \n",
    "    51: 'Mato Grosso', \n",
    "    52: 'Goiás', \n",
    "    53: 'Distrito Federal'\n",
    "}"
   ]
  },
  {
   "cell_type": "markdown",
   "metadata": {},
   "source": [
    "<li>Vamos analisar a distribuição de renda e a frequência e percentual de pessoas em diferentes faixas de renda, bem como a distribuição da cor da pele entre homens e mulheres. A análise foi feita por meio de tabelas de frequência e percentual.</li>"
   ]
  },
  {
   "cell_type": "code",
   "execution_count": 20,
   "metadata": {
    "colab": {},
    "colab_type": "code",
    "id": "csL1jaeSTg2M"
   },
   "outputs": [
    {
     "data": {
      "text/html": [
       "<div>\n",
       "<style scoped>\n",
       "    .dataframe tbody tr th:only-of-type {\n",
       "        vertical-align: middle;\n",
       "    }\n",
       "\n",
       "    .dataframe tbody tr th {\n",
       "        vertical-align: top;\n",
       "    }\n",
       "\n",
       "    .dataframe thead th {\n",
       "        text-align: right;\n",
       "    }\n",
       "</style>\n",
       "<table border=\"1\" class=\"dataframe\">\n",
       "  <thead>\n",
       "    <tr style=\"text-align: right;\">\n",
       "      <th>Cor</th>\n",
       "      <th>Indígena</th>\n",
       "      <th>Branca</th>\n",
       "      <th>Preta</th>\n",
       "      <th>Amarela</th>\n",
       "      <th>Parda</th>\n",
       "    </tr>\n",
       "    <tr>\n",
       "      <th>Sexo</th>\n",
       "      <th></th>\n",
       "      <th></th>\n",
       "      <th></th>\n",
       "      <th></th>\n",
       "      <th></th>\n",
       "    </tr>\n",
       "  </thead>\n",
       "  <tbody>\n",
       "    <tr>\n",
       "      <th>Masculino</th>\n",
       "      <td>256</td>\n",
       "      <td>22194</td>\n",
       "      <td>5502</td>\n",
       "      <td>235</td>\n",
       "      <td>25063</td>\n",
       "    </tr>\n",
       "    <tr>\n",
       "      <th>Feminino</th>\n",
       "      <td>101</td>\n",
       "      <td>9621</td>\n",
       "      <td>2889</td>\n",
       "      <td>117</td>\n",
       "      <td>10862</td>\n",
       "    </tr>\n",
       "  </tbody>\n",
       "</table>\n",
       "</div>"
      ],
      "text/plain": [
       "Cor        Indígena  Branca  Preta  Amarela  Parda\n",
       "Sexo                                              \n",
       "Masculino       256   22194   5502      235  25063\n",
       "Feminino        101    9621   2889      117  10862"
      ]
     },
     "execution_count": 20,
     "metadata": {},
     "output_type": "execute_result"
    }
   ],
   "source": [
    "tabela_freq = pd.crosstab(dados.Sexo, dados['Cor'])\n",
    "tabela_freq.rename(index = sexo, columns = cor, inplace = True)\n",
    "tabela_freq"
   ]
  },
  {
   "cell_type": "code",
   "execution_count": 21,
   "metadata": {},
   "outputs": [
    {
     "data": {
      "text/html": [
       "<div>\n",
       "<style scoped>\n",
       "    .dataframe tbody tr th:only-of-type {\n",
       "        vertical-align: middle;\n",
       "    }\n",
       "\n",
       "    .dataframe tbody tr th {\n",
       "        vertical-align: top;\n",
       "    }\n",
       "\n",
       "    .dataframe thead th {\n",
       "        text-align: right;\n",
       "    }\n",
       "</style>\n",
       "<table border=\"1\" class=\"dataframe\">\n",
       "  <thead>\n",
       "    <tr style=\"text-align: right;\">\n",
       "      <th>Cor</th>\n",
       "      <th>Indígena</th>\n",
       "      <th>Branca</th>\n",
       "      <th>Preta</th>\n",
       "      <th>Amarela</th>\n",
       "      <th>Parda</th>\n",
       "    </tr>\n",
       "    <tr>\n",
       "      <th>Sexo</th>\n",
       "      <th></th>\n",
       "      <th></th>\n",
       "      <th></th>\n",
       "      <th></th>\n",
       "      <th></th>\n",
       "    </tr>\n",
       "  </thead>\n",
       "  <tbody>\n",
       "    <tr>\n",
       "      <th>Masculino</th>\n",
       "      <td>0.33</td>\n",
       "      <td>28.88</td>\n",
       "      <td>7.16</td>\n",
       "      <td>0.31</td>\n",
       "      <td>32.62</td>\n",
       "    </tr>\n",
       "    <tr>\n",
       "      <th>Feminino</th>\n",
       "      <td>0.13</td>\n",
       "      <td>12.52</td>\n",
       "      <td>3.76</td>\n",
       "      <td>0.15</td>\n",
       "      <td>14.14</td>\n",
       "    </tr>\n",
       "  </tbody>\n",
       "</table>\n",
       "</div>"
      ],
      "text/plain": [
       "Cor        Indígena  Branca  Preta  Amarela  Parda\n",
       "Sexo                                              \n",
       "Masculino      0.33   28.88   7.16     0.31  32.62\n",
       "Feminino       0.13   12.52   3.76     0.15  14.14"
      ]
     },
     "execution_count": 21,
     "metadata": {},
     "output_type": "execute_result"
    }
   ],
   "source": [
    "tabela_percentual = pd.crosstab(dados['Sexo'],\n",
    "                                dados.Cor,\n",
    "                                normalize = True)* 100\n",
    "tabela_percentual.rename(index = sexo, columns = cor, inplace = True)\n",
    "tabela_percentual.round(2)"
   ]
  },
  {
   "cell_type": "markdown",
   "metadata": {
    "colab_type": "text",
    "id": "Aoeayf6zTg2P"
   },
   "source": [
    "## Análise descritiva para a variável RENDA"
   ]
  },
  {
   "cell_type": "markdown",
   "metadata": {
    "colab_type": "text",
    "id": "c2CtT71oTg2P"
   },
   "source": [
    "### Média aritimética"
   ]
  },
  {
   "cell_type": "code",
   "execution_count": 22,
   "metadata": {
    "colab": {},
    "colab_type": "code",
    "id": "qlJESCU6Tg2P"
   },
   "outputs": [
    {
     "data": {
      "text/plain": [
       "2000.3831988547631"
      ]
     },
     "execution_count": 22,
     "metadata": {},
     "output_type": "execute_result"
    }
   ],
   "source": [
    "dados['Renda'].mean()"
   ]
  },
  {
   "cell_type": "markdown",
   "metadata": {
    "colab_type": "text",
    "id": "Xd4saPBCTg2R"
   },
   "source": [
    "### Mediana"
   ]
  },
  {
   "cell_type": "code",
   "execution_count": 23,
   "metadata": {
    "colab": {},
    "colab_type": "code",
    "id": "vHTqX-UATg2R"
   },
   "outputs": [
    {
     "data": {
      "text/plain": [
       "1200.0"
      ]
     },
     "execution_count": 23,
     "metadata": {},
     "output_type": "execute_result"
    }
   ],
   "source": [
    "dados['Renda'].median()"
   ]
  },
  {
   "cell_type": "markdown",
   "metadata": {
    "colab_type": "text",
    "id": "_e40rDSwTg2U"
   },
   "source": [
    "### Moda"
   ]
  },
  {
   "cell_type": "code",
   "execution_count": 24,
   "metadata": {
    "colab": {},
    "colab_type": "code",
    "id": "BFOOdYOvTg2V"
   },
   "outputs": [
    {
     "data": {
      "text/plain": [
       "788"
      ]
     },
     "execution_count": 24,
     "metadata": {},
     "output_type": "execute_result"
    }
   ],
   "source": [
    "dados.Renda.mode()[0]"
   ]
  },
  {
   "cell_type": "markdown",
   "metadata": {
    "colab_type": "text",
    "id": "Rnr1gOCMTg2X"
   },
   "source": [
    "### Desvio médio absoluto"
   ]
  },
  {
   "cell_type": "code",
   "execution_count": 25,
   "metadata": {
    "colab": {},
    "colab_type": "code",
    "id": "TmE_1QDGTg2Y"
   },
   "outputs": [
    {
     "data": {
      "text/plain": [
       "1526.4951371644931"
      ]
     },
     "execution_count": 25,
     "metadata": {},
     "output_type": "execute_result"
    }
   ],
   "source": [
    "dados['Renda'].mad()"
   ]
  },
  {
   "cell_type": "markdown",
   "metadata": {
    "colab_type": "text",
    "id": "hCgV_XaQTg2Z"
   },
   "source": [
    "### Variância"
   ]
  },
  {
   "cell_type": "code",
   "execution_count": 26,
   "metadata": {
    "colab": {},
    "colab_type": "code",
    "id": "SwRgACeGTg2a"
   },
   "outputs": [
    {
     "data": {
      "text/plain": [
       "11044906.00622118"
      ]
     },
     "execution_count": 26,
     "metadata": {},
     "output_type": "execute_result"
    }
   ],
   "source": [
    "dados['Renda'].var()"
   ]
  },
  {
   "cell_type": "markdown",
   "metadata": {
    "colab_type": "text",
    "id": "gsO6MKOcTg2c"
   },
   "source": [
    "### Desvio-padrão"
   ]
  },
  {
   "cell_type": "code",
   "execution_count": 27,
   "metadata": {
    "colab": {},
    "colab_type": "code",
    "id": "gR-LVTRYTg2d"
   },
   "outputs": [
    {
     "data": {
      "text/plain": [
       "3323.3877303470294"
      ]
     },
     "execution_count": 27,
     "metadata": {},
     "output_type": "execute_result"
    }
   ],
   "source": [
    "dados.Renda.std()"
   ]
  },
  {
   "cell_type": "markdown",
   "metadata": {
    "colab_type": "text",
    "id": "vG-rdO5fTg2f"
   },
   "source": [
    "<p> Estamos analisando a renda máxima, média e mediana de acordo com a cor e o sexo dos entrevistados. A tabela resultante mostra esses valores agregados para cada combinação de cor e sexo.</p>\n"
   ]
  },
  {
   "cell_type": "code",
   "execution_count": 28,
   "metadata": {
    "colab": {},
    "colab_type": "code",
    "id": "VgxygKWXTg2g"
   },
   "outputs": [
    {
     "data": {
      "text/html": [
       "<div>\n",
       "<style scoped>\n",
       "    .dataframe tbody tr th:only-of-type {\n",
       "        vertical-align: middle;\n",
       "    }\n",
       "\n",
       "    .dataframe tbody tr th {\n",
       "        vertical-align: top;\n",
       "    }\n",
       "\n",
       "    .dataframe thead tr th {\n",
       "        text-align: left;\n",
       "    }\n",
       "\n",
       "    .dataframe thead tr:last-of-type th {\n",
       "        text-align: right;\n",
       "    }\n",
       "</style>\n",
       "<table border=\"1\" class=\"dataframe\">\n",
       "  <thead>\n",
       "    <tr>\n",
       "      <th></th>\n",
       "      <th colspan=\"2\" halign=\"left\">max</th>\n",
       "      <th colspan=\"2\" halign=\"left\">mean</th>\n",
       "      <th colspan=\"2\" halign=\"left\">median</th>\n",
       "    </tr>\n",
       "    <tr>\n",
       "      <th>Sexo</th>\n",
       "      <th>Masculino</th>\n",
       "      <th>Feminino</th>\n",
       "      <th>Masculino</th>\n",
       "      <th>Feminino</th>\n",
       "      <th>Masculino</th>\n",
       "      <th>Feminino</th>\n",
       "    </tr>\n",
       "    <tr>\n",
       "      <th>Cor</th>\n",
       "      <th></th>\n",
       "      <th></th>\n",
       "      <th></th>\n",
       "      <th></th>\n",
       "      <th></th>\n",
       "      <th></th>\n",
       "    </tr>\n",
       "  </thead>\n",
       "  <tbody>\n",
       "    <tr>\n",
       "      <th>Indígena</th>\n",
       "      <td>10000</td>\n",
       "      <td>120000</td>\n",
       "      <td>1081.710938</td>\n",
       "      <td>2464.386139</td>\n",
       "      <td>797.5</td>\n",
       "      <td>788.0</td>\n",
       "    </tr>\n",
       "    <tr>\n",
       "      <th>Branca</th>\n",
       "      <td>200000</td>\n",
       "      <td>100000</td>\n",
       "      <td>2925.744435</td>\n",
       "      <td>2109.866750</td>\n",
       "      <td>1700.0</td>\n",
       "      <td>1200.0</td>\n",
       "    </tr>\n",
       "    <tr>\n",
       "      <th>Preta</th>\n",
       "      <td>50000</td>\n",
       "      <td>23000</td>\n",
       "      <td>1603.861687</td>\n",
       "      <td>1134.596400</td>\n",
       "      <td>1200.0</td>\n",
       "      <td>800.0</td>\n",
       "    </tr>\n",
       "    <tr>\n",
       "      <th>Amarela</th>\n",
       "      <td>50000</td>\n",
       "      <td>20000</td>\n",
       "      <td>4758.251064</td>\n",
       "      <td>3027.341880</td>\n",
       "      <td>2800.0</td>\n",
       "      <td>1500.0</td>\n",
       "    </tr>\n",
       "    <tr>\n",
       "      <th>Parda</th>\n",
       "      <td>100000</td>\n",
       "      <td>30000</td>\n",
       "      <td>1659.577425</td>\n",
       "      <td>1176.758516</td>\n",
       "      <td>1200.0</td>\n",
       "      <td>800.0</td>\n",
       "    </tr>\n",
       "  </tbody>\n",
       "</table>\n",
       "</div>"
      ],
      "text/plain": [
       "               max                  mean                 median         \n",
       "Sexo     Masculino Feminino    Masculino     Feminino Masculino Feminino\n",
       "Cor                                                                     \n",
       "Indígena     10000   120000  1081.710938  2464.386139     797.5    788.0\n",
       "Branca      200000   100000  2925.744435  2109.866750    1700.0   1200.0\n",
       "Preta        50000    23000  1603.861687  1134.596400    1200.0    800.0\n",
       "Amarela      50000    20000  4758.251064  3027.341880    2800.0   1500.0\n",
       "Parda       100000    30000  1659.577425  1176.758516    1200.0    800.0"
      ]
     },
     "execution_count": 28,
     "metadata": {},
     "output_type": "execute_result"
    }
   ],
   "source": [
    "\n",
    "research_max = pd.crosstab(dados.Cor, dados['Sexo'], aggfunc = ['max','mean','median'], values = dados.Renda)\n",
    "research_max.rename(columns = sexo, inplace =True)\n",
    "research_max.rename(index = cor, inplace =True)\n",
    "research_max\n"
   ]
  },
  {
   "cell_type": "markdown",
   "metadata": {
    "colab_type": "text",
    "id": "CleJ6c1rTg2i"
   },
   "source": [
    "\n",
    "<li>Nesta análise vamos calcular as medidas de dispersão (Desvio Médio Absoluto - MAD, Variância e Desvio Padrão) da renda por cor e sexo. Os resultados são apresentados em uma tabela, onde as linhas correspondem às diferentes cores e as colunas correspondem aos diferentes sexos.</li>"
   ]
  },
  {
   "cell_type": "code",
   "execution_count": 193,
   "metadata": {
    "colab": {},
    "colab_type": "code",
    "id": "bNv-eWZ3Tg2j"
   },
   "outputs": [
    {
     "data": {
      "text/html": [
       "<div>\n",
       "<style scoped>\n",
       "    .dataframe tbody tr th:only-of-type {\n",
       "        vertical-align: middle;\n",
       "    }\n",
       "\n",
       "    .dataframe tbody tr th {\n",
       "        vertical-align: top;\n",
       "    }\n",
       "\n",
       "    .dataframe thead tr th {\n",
       "        text-align: left;\n",
       "    }\n",
       "\n",
       "    .dataframe thead tr:last-of-type th {\n",
       "        text-align: right;\n",
       "    }\n",
       "</style>\n",
       "<table border=\"1\" class=\"dataframe\">\n",
       "  <thead>\n",
       "    <tr>\n",
       "      <th></th>\n",
       "      <th colspan=\"2\" halign=\"left\">mad</th>\n",
       "      <th colspan=\"2\" halign=\"left\">std</th>\n",
       "      <th colspan=\"2\" halign=\"left\">var</th>\n",
       "    </tr>\n",
       "    <tr>\n",
       "      <th>Sexo</th>\n",
       "      <th>Masculino</th>\n",
       "      <th>Feminino</th>\n",
       "      <th>Masculino</th>\n",
       "      <th>Feminino</th>\n",
       "      <th>Masculino</th>\n",
       "      <th>Feminino</th>\n",
       "    </tr>\n",
       "    <tr>\n",
       "      <th>Cor</th>\n",
       "      <th></th>\n",
       "      <th></th>\n",
       "      <th></th>\n",
       "      <th></th>\n",
       "      <th></th>\n",
       "      <th></th>\n",
       "    </tr>\n",
       "  </thead>\n",
       "  <tbody>\n",
       "    <tr>\n",
       "      <th>Indígena</th>\n",
       "      <td>798.910889</td>\n",
       "      <td>3007.892952</td>\n",
       "      <td>1204.093490</td>\n",
       "      <td>11957.498292</td>\n",
       "      <td>1.449841e+06</td>\n",
       "      <td>1.429818e+08</td>\n",
       "    </tr>\n",
       "    <tr>\n",
       "      <th>Branca</th>\n",
       "      <td>2261.012346</td>\n",
       "      <td>1670.967106</td>\n",
       "      <td>4750.791872</td>\n",
       "      <td>3251.013154</td>\n",
       "      <td>2.257002e+07</td>\n",
       "      <td>1.056909e+07</td>\n",
       "    </tr>\n",
       "    <tr>\n",
       "      <th>Preta</th>\n",
       "      <td>975.602482</td>\n",
       "      <td>705.453357</td>\n",
       "      <td>1936.309271</td>\n",
       "      <td>1349.799809</td>\n",
       "      <td>3.749294e+06</td>\n",
       "      <td>1.821960e+06</td>\n",
       "    </tr>\n",
       "    <tr>\n",
       "      <th>Amarela</th>\n",
       "      <td>3709.597211</td>\n",
       "      <td>2549.146322</td>\n",
       "      <td>5740.824820</td>\n",
       "      <td>3731.173660</td>\n",
       "      <td>3.295707e+07</td>\n",
       "      <td>1.392166e+07</td>\n",
       "    </tr>\n",
       "    <tr>\n",
       "      <th>Parda</th>\n",
       "      <td>1125.827704</td>\n",
       "      <td>811.580946</td>\n",
       "      <td>2312.087184</td>\n",
       "      <td>1596.233048</td>\n",
       "      <td>5.345747e+06</td>\n",
       "      <td>2.547960e+06</td>\n",
       "    </tr>\n",
       "  </tbody>\n",
       "</table>\n",
       "</div>"
      ],
      "text/plain": [
       "                  mad                       std                         var  \\\n",
       "Sexo        Masculino     Feminino    Masculino      Feminino     Masculino   \n",
       "Cor                                                                           \n",
       "Indígena   798.910889  3007.892952  1204.093490  11957.498292  1.449841e+06   \n",
       "Branca    2261.012346  1670.967106  4750.791872   3251.013154  2.257002e+07   \n",
       "Preta      975.602482   705.453357  1936.309271   1349.799809  3.749294e+06   \n",
       "Amarela   3709.597211  2549.146322  5740.824820   3731.173660  3.295707e+07   \n",
       "Parda     1125.827704   811.580946  2312.087184   1596.233048  5.345747e+06   \n",
       "\n",
       "                        \n",
       "Sexo          Feminino  \n",
       "Cor                     \n",
       "Indígena  1.429818e+08  \n",
       "Branca    1.056909e+07  \n",
       "Preta     1.821960e+06  \n",
       "Amarela   1.392166e+07  \n",
       "Parda     2.547960e+06  "
      ]
     },
     "execution_count": 193,
     "metadata": {},
     "output_type": "execute_result"
    }
   ],
   "source": [
    "\n",
    "desvio_med = pd.crosstab(dados.Cor, dados['Sexo'],\n",
    "                         aggfunc = {'mad','var','std'},\n",
    "                         values = dados.Renda)\n",
    "desvio_med.rename(columns = sexo, index = cor, inplace = True)\n",
    "desvio_med"
   ]
  },
  {
   "cell_type": "markdown",
   "metadata": {
    "colab_type": "text",
    "id": "QSYjkdyOTg2l"
   },
   "source": [
    "<li>Nesta análise, estamos visualizando um gráfico de caixa que compara a renda de pessoas de diferentes cores e gêneros, mas apenas para aqueles com renda abaixo de R$ 10.000. O gráfico mostra a distribuição de renda em cada grupo, destacando as diferenças entre eles. As cores representam as diferentes etnias e os pontos indicam valores extremos (outliers).</li>"
   ]
  },
  {
   "cell_type": "code",
   "execution_count": 196,
   "metadata": {
    "scrolled": false
   },
   "outputs": [
    {
     "data": {
      "text/plain": [
       "<AxesSubplot:title={'center':'Renda abaixo de R$ 10.000'}, xlabel='R$', ylabel='Cor'>"
      ]
     },
     "execution_count": 196,
     "metadata": {},
     "output_type": "execute_result"
    },
    {
     "data": {
      "image/png": "[encoded data removed]",
      "text/plain": [
       "<Figure size 864x432 with 1 Axes>"
      ]
     },
     "metadata": {
      "needs_background": "light"
     },
     "output_type": "display_data"
    }
   ],
   "source": [
    "\n",
    "selecao = (dados.Renda < 10000)\n",
    "box_de_ate_10 = dados[selecao]\n",
    "\n",
    "\n",
    "ax = sns.boxplot(x = 'Renda', y= 'Cor',\n",
    "                 data = box_de_ate_10,\n",
    "                 hue = 'Sexo',  orient = 'h')\n",
    "ax.figure.set_size_inches(12,6)   # Tamanho da figura\n",
    "ax.set_title('Renda abaixo de R$ 10.000',\n",
    "             fontsize = 18)   # Configurando título do gráfico\n",
    "ax.set_xlabel('R$', fontsize = 14)   # Configurando o label do eixo X\n",
    "\n",
    "ax.set_ylabel('Cor', fontsize = 14) # Configurando o label do eixo Y\n",
    "ax.set_yticklabels(['Indígena', 'Branca', 'Preta', 'Amarela', 'Parda'],\n",
    "                   fontsize=12)\n",
    "\n",
    "handles, _ = ax.get_legend_handles_labels()\n",
    "ax.legend(handles, ['Masculino', 'Feminino'], fontsize = 14)\n",
    "\n",
    "ax"
   ]
  },
  {
   "cell_type": "markdown",
   "metadata": {
    "colab_type": "text",
    "id": "zi4BaGooTg2o"
   },
   "source": [
    "\n",
    "<li>Estamos analisando o percentual de indivíduos que possuem renda igual ou inferior a <strong>788,00</strong> em relação ao total de observações. O resultado é apresentado como uma porcentagem.</li>"
   ]
  },
  {
   "cell_type": "code",
   "execution_count": 32,
   "metadata": {
    "colab": {},
    "colab_type": "code",
    "id": "9DwXo2yITg2p"
   },
   "outputs": [
    {
     "data": {
      "text/plain": [
       "28.86777719937533"
      ]
     },
     "execution_count": 32,
     "metadata": {},
     "output_type": "execute_result"
    }
   ],
   "source": [
    "from scipy import stats\n",
    "\n",
    "percentual = stats.percentileofscore(dados.Renda, 788, kind = 'weak')\n",
    "percentual"
   ]
  },
  {
   "cell_type": "markdown",
   "metadata": {
    "colab_type": "text",
    "id": "bl0fOMuKTg2q"
   },
   "source": [
    "### Qual o valor máximo ganho por 99% das pessoas de nosso <i>dataset</i>?\n"
   ]
  },
  {
   "cell_type": "code",
   "execution_count": 33,
   "metadata": {
    "colab": {},
    "colab_type": "code",
    "id": "cIVwy8bKTg2q"
   },
   "outputs": [
    {
     "data": {
      "text/plain": [
       "15000.0"
      ]
     },
     "execution_count": 33,
     "metadata": {},
     "output_type": "execute_result"
    }
   ],
   "source": [
    "dados['Renda'].quantile(0.99)"
   ]
  },
  {
   "cell_type": "markdown",
   "metadata": {
    "colab_type": "text",
    "id": "zeRhvtngTg2r"
   },
   "source": [
    "<p>Vamos realizar uma análise de dados a partir da tabela dados, apresentando informações sobre a média, mediana, valor máximo e desvio padrão da renda de indivíduos de diferentes gêneros e anos de estudo. A análise é dividida por cor/raça e apresentada por meio de tabelas de frequência e porcentagens, gráficos de boxplot e crosstabs. O objetivo é obter informações sobre a distribuição de renda de diferentes grupos e suas relações com variáveis como gênero, cor/raça e anos de estudo.</p>"
   ]
  },
  {
   "cell_type": "code",
   "execution_count": 44,
   "metadata": {
    "colab": {},
    "colab_type": "code",
    "id": "8nxGdQIpTg2s"
   },
   "outputs": [
    {
     "data": {
      "text/html": [
       "<div>\n",
       "<style scoped>\n",
       "    .dataframe tbody tr th:only-of-type {\n",
       "        vertical-align: middle;\n",
       "    }\n",
       "\n",
       "    .dataframe tbody tr th {\n",
       "        vertical-align: top;\n",
       "    }\n",
       "\n",
       "    .dataframe thead tr th {\n",
       "        text-align: left;\n",
       "    }\n",
       "\n",
       "    .dataframe thead tr:last-of-type th {\n",
       "        text-align: right;\n",
       "    }\n",
       "</style>\n",
       "<table border=\"1\" class=\"dataframe\">\n",
       "  <thead>\n",
       "    <tr>\n",
       "      <th></th>\n",
       "      <th colspan=\"2\" halign=\"left\">mean</th>\n",
       "      <th colspan=\"2\" halign=\"left\">median</th>\n",
       "      <th colspan=\"2\" halign=\"left\">max</th>\n",
       "      <th colspan=\"2\" halign=\"left\">std</th>\n",
       "    </tr>\n",
       "    <tr>\n",
       "      <th>Sexo</th>\n",
       "      <th>Masculino</th>\n",
       "      <th>Feminino</th>\n",
       "      <th>Masculino</th>\n",
       "      <th>Feminino</th>\n",
       "      <th>Masculino</th>\n",
       "      <th>Feminino</th>\n",
       "      <th>Masculino</th>\n",
       "      <th>Feminino</th>\n",
       "    </tr>\n",
       "    <tr>\n",
       "      <th>Anos de Estudo</th>\n",
       "      <th></th>\n",
       "      <th></th>\n",
       "      <th></th>\n",
       "      <th></th>\n",
       "      <th></th>\n",
       "      <th></th>\n",
       "      <th></th>\n",
       "      <th></th>\n",
       "    </tr>\n",
       "  </thead>\n",
       "  <tbody>\n",
       "    <tr>\n",
       "      <th>Sem instrução e menos de 1 ano</th>\n",
       "      <td>799.494638</td>\n",
       "      <td>516.201748</td>\n",
       "      <td>700</td>\n",
       "      <td>390</td>\n",
       "      <td>30000</td>\n",
       "      <td>10000</td>\n",
       "      <td>1023.904884</td>\n",
       "      <td>639.311534</td>\n",
       "    </tr>\n",
       "    <tr>\n",
       "      <th>1 ano</th>\n",
       "      <td>895.629047</td>\n",
       "      <td>492.771987</td>\n",
       "      <td>788</td>\n",
       "      <td>400</td>\n",
       "      <td>30000</td>\n",
       "      <td>2000</td>\n",
       "      <td>1331.950552</td>\n",
       "      <td>425.291842</td>\n",
       "    </tr>\n",
       "    <tr>\n",
       "      <th>2 anos</th>\n",
       "      <td>931.178986</td>\n",
       "      <td>529.911638</td>\n",
       "      <td>788</td>\n",
       "      <td>450</td>\n",
       "      <td>40000</td>\n",
       "      <td>4000</td>\n",
       "      <td>1435.173827</td>\n",
       "      <td>498.234168</td>\n",
       "    </tr>\n",
       "    <tr>\n",
       "      <th>3 anos</th>\n",
       "      <td>1109.203862</td>\n",
       "      <td>546.853916</td>\n",
       "      <td>800</td>\n",
       "      <td>500</td>\n",
       "      <td>80000</td>\n",
       "      <td>3500</td>\n",
       "      <td>2143.800133</td>\n",
       "      <td>424.124446</td>\n",
       "    </tr>\n",
       "    <tr>\n",
       "      <th>4 anos</th>\n",
       "      <td>1302.329283</td>\n",
       "      <td>704.279111</td>\n",
       "      <td>1000</td>\n",
       "      <td>788</td>\n",
       "      <td>50000</td>\n",
       "      <td>10000</td>\n",
       "      <td>1419.821787</td>\n",
       "      <td>629.553397</td>\n",
       "    </tr>\n",
       "    <tr>\n",
       "      <th>5 anos</th>\n",
       "      <td>1338.653218</td>\n",
       "      <td>781.389776</td>\n",
       "      <td>1045</td>\n",
       "      <td>788</td>\n",
       "      <td>35000</td>\n",
       "      <td>8000</td>\n",
       "      <td>1484.650587</td>\n",
       "      <td>635.782641</td>\n",
       "    </tr>\n",
       "    <tr>\n",
       "      <th>6 anos</th>\n",
       "      <td>1448.875419</td>\n",
       "      <td>833.732824</td>\n",
       "      <td>1200</td>\n",
       "      <td>788</td>\n",
       "      <td>25000</td>\n",
       "      <td>6000</td>\n",
       "      <td>1476.628602</td>\n",
       "      <td>574.547028</td>\n",
       "    </tr>\n",
       "    <tr>\n",
       "      <th>7 anos</th>\n",
       "      <td>1465.497940</td>\n",
       "      <td>830.751004</td>\n",
       "      <td>1200</td>\n",
       "      <td>788</td>\n",
       "      <td>40000</td>\n",
       "      <td>9000</td>\n",
       "      <td>1419.708673</td>\n",
       "      <td>602.038029</td>\n",
       "    </tr>\n",
       "    <tr>\n",
       "      <th>8 anos</th>\n",
       "      <td>1639.396667</td>\n",
       "      <td>933.615351</td>\n",
       "      <td>1300</td>\n",
       "      <td>800</td>\n",
       "      <td>30000</td>\n",
       "      <td>18000</td>\n",
       "      <td>1515.583715</td>\n",
       "      <td>896.781213</td>\n",
       "    </tr>\n",
       "    <tr>\n",
       "      <th>9 anos</th>\n",
       "      <td>1508.038850</td>\n",
       "      <td>868.021700</td>\n",
       "      <td>1200</td>\n",
       "      <td>788</td>\n",
       "      <td>60000</td>\n",
       "      <td>20000</td>\n",
       "      <td>2137.664774</td>\n",
       "      <td>973.221652</td>\n",
       "    </tr>\n",
       "    <tr>\n",
       "      <th>10 anos</th>\n",
       "      <td>1731.270847</td>\n",
       "      <td>925.919225</td>\n",
       "      <td>1218</td>\n",
       "      <td>800</td>\n",
       "      <td>45000</td>\n",
       "      <td>6000</td>\n",
       "      <td>2078.609734</td>\n",
       "      <td>620.611907</td>\n",
       "    </tr>\n",
       "    <tr>\n",
       "      <th>11 anos</th>\n",
       "      <td>2117.060504</td>\n",
       "      <td>1286.790889</td>\n",
       "      <td>1500</td>\n",
       "      <td>1000</td>\n",
       "      <td>200000</td>\n",
       "      <td>100000</td>\n",
       "      <td>2676.538942</td>\n",
       "      <td>1819.040417</td>\n",
       "    </tr>\n",
       "    <tr>\n",
       "      <th>12 anos</th>\n",
       "      <td>2470.330776</td>\n",
       "      <td>1682.313725</td>\n",
       "      <td>1800</td>\n",
       "      <td>1200</td>\n",
       "      <td>30000</td>\n",
       "      <td>120000</td>\n",
       "      <td>2268.081538</td>\n",
       "      <td>4851.833513</td>\n",
       "    </tr>\n",
       "    <tr>\n",
       "      <th>13 anos</th>\n",
       "      <td>3195.099154</td>\n",
       "      <td>1911.730047</td>\n",
       "      <td>2400</td>\n",
       "      <td>1300</td>\n",
       "      <td>25000</td>\n",
       "      <td>20000</td>\n",
       "      <td>2797.116800</td>\n",
       "      <td>2053.789771</td>\n",
       "    </tr>\n",
       "    <tr>\n",
       "      <th>14 anos</th>\n",
       "      <td>3706.620269</td>\n",
       "      <td>2226.460457</td>\n",
       "      <td>2500</td>\n",
       "      <td>1600</td>\n",
       "      <td>50000</td>\n",
       "      <td>20000</td>\n",
       "      <td>3987.214974</td>\n",
       "      <td>2064.083336</td>\n",
       "    </tr>\n",
       "    <tr>\n",
       "      <th>15 anos ou mais</th>\n",
       "      <td>6134.279790</td>\n",
       "      <td>3899.513231</td>\n",
       "      <td>4000</td>\n",
       "      <td>2800</td>\n",
       "      <td>200000</td>\n",
       "      <td>100000</td>\n",
       "      <td>7447.613594</td>\n",
       "      <td>4212.770709</td>\n",
       "    </tr>\n",
       "    <tr>\n",
       "      <th>Não determinados</th>\n",
       "      <td>1295.761905</td>\n",
       "      <td>798.174419</td>\n",
       "      <td>1200</td>\n",
       "      <td>788</td>\n",
       "      <td>7000</td>\n",
       "      <td>3000</td>\n",
       "      <td>979.648745</td>\n",
       "      <td>459.985964</td>\n",
       "    </tr>\n",
       "  </tbody>\n",
       "</table>\n",
       "</div>"
      ],
      "text/plain": [
       "                                       mean                 median           \\\n",
       "Sexo                              Masculino     Feminino Masculino Feminino   \n",
       "Anos de Estudo                                                                \n",
       "Sem instrução e menos de 1 ano   799.494638   516.201748       700      390   \n",
       "1 ano                            895.629047   492.771987       788      400   \n",
       "2 anos                           931.178986   529.911638       788      450   \n",
       "3 anos                          1109.203862   546.853916       800      500   \n",
       "4 anos                          1302.329283   704.279111      1000      788   \n",
       "5 anos                          1338.653218   781.389776      1045      788   \n",
       "6 anos                          1448.875419   833.732824      1200      788   \n",
       "7 anos                          1465.497940   830.751004      1200      788   \n",
       "8 anos                          1639.396667   933.615351      1300      800   \n",
       "9 anos                          1508.038850   868.021700      1200      788   \n",
       "10 anos                         1731.270847   925.919225      1218      800   \n",
       "11 anos                         2117.060504  1286.790889      1500     1000   \n",
       "12 anos                         2470.330776  1682.313725      1800     1200   \n",
       "13 anos                         3195.099154  1911.730047      2400     1300   \n",
       "14 anos                         3706.620269  2226.460457      2500     1600   \n",
       "15 anos ou mais                 6134.279790  3899.513231      4000     2800   \n",
       "Não determinados                1295.761905   798.174419      1200      788   \n",
       "\n",
       "                                     max                   std               \n",
       "Sexo                           Masculino Feminino    Masculino     Feminino  \n",
       "Anos de Estudo                                                               \n",
       "Sem instrução e menos de 1 ano     30000    10000  1023.904884   639.311534  \n",
       "1 ano                              30000     2000  1331.950552   425.291842  \n",
       "2 anos                             40000     4000  1435.173827   498.234168  \n",
       "3 anos                             80000     3500  2143.800133   424.124446  \n",
       "4 anos                             50000    10000  1419.821787   629.553397  \n",
       "5 anos                             35000     8000  1484.650587   635.782641  \n",
       "6 anos                             25000     6000  1476.628602   574.547028  \n",
       "7 anos                             40000     9000  1419.708673   602.038029  \n",
       "8 anos                             30000    18000  1515.583715   896.781213  \n",
       "9 anos                             60000    20000  2137.664774   973.221652  \n",
       "10 anos                            45000     6000  2078.609734   620.611907  \n",
       "11 anos                           200000   100000  2676.538942  1819.040417  \n",
       "12 anos                            30000   120000  2268.081538  4851.833513  \n",
       "13 anos                            25000    20000  2797.116800  2053.789771  \n",
       "14 anos                            50000    20000  3987.214974  2064.083336  \n",
       "15 anos ou mais                   200000   100000  7447.613594  4212.770709  \n",
       "Não determinados                    7000     3000   979.648745   459.985964  "
      ]
     },
     "execution_count": 44,
     "metadata": {},
     "output_type": "execute_result"
    }
   ],
   "source": [
    "anos_estudos = pd.crosstab(dados['Anos de Estudo'], dados.Sexo, aggfunc = ['mean',\n",
    "                                                                           'median',\n",
    "                                                                           'max',\n",
    "                                                                           'std'],\n",
    "                           values = dados.Renda)\n",
    "anos_estudos.rename(index = anos_de_estudo, inplace = True)\n",
    "anos_estudos.rename(columns = sexo, inplace = True)\n",
    "anos_estudos"
   ]
  },
  {
   "cell_type": "markdown",
   "metadata": {
    "colab_type": "text",
    "id": "1Rm1n7a_Tg2u"
   },
   "source": [
    "<p>Criando um gráfico box-plot que analisa a renda por sexo e anos de estudo de indivíduos com idade igual a 50 anos e renda inferior a R$ 10.000. A figura apresenta a mediana, os quartis, e os valores mínimo e máximo para cada categoria, separados por sexo. Além disso, a legenda indica qual cor representa cada sexo. O eixo X indica a renda e o eixo Y, o número de anos de estudo.</p>"
   ]
  },
  {
   "cell_type": "code",
   "execution_count": 52,
   "metadata": {
    "colab": {},
    "colab_type": "code",
    "id": "rgMU0WyJTg2v"
   },
   "outputs": [
    {
     "data": {
      "text/plain": [
       "<AxesSubplot:title={'center':'Box-Plot da RENDA por SEXO e ANOS DE ESTUDO'}, xlabel='RENDA', ylabel='Anos de Estudo'>"
      ]
     },
     "execution_count": 52,
     "metadata": {},
     "output_type": "execute_result"
    },
    {
     "data": {
      "image/png": "[encoded data removed]",
      "text/plain": [
       "<Figure size 1008x720 with 1 Axes>"
      ]
     },
     "metadata": {
      "needs_background": "light"
     },
     "output_type": "display_data"
    }
   ],
   "source": [
    "ax = sns.boxplot(x = 'Renda',\n",
    "               y = 'Anos de Estudo',\n",
    "               hue = 'Sexo',\n",
    "               data = dados.query('Renda < 10000 and Idade == 50'),\n",
    "               orient = 'h')\n",
    "\n",
    "ax.figure.set_size_inches(14,10)\n",
    "\n",
    "ax.set_title('Box-Plot da RENDA por SEXO e ANOS DE ESTUDO', fontsize = 18)\n",
    "\n",
    "ax.set_xlabel('RENDA', fontsize = 14)\n",
    "ax.set_ylabel('Anos de Estudo', fontsize = 18)\n",
    "ax.set_yticklabels([key for key in anos_de_estudo.values()], fontsize = 15)\n",
    "\n",
    "handles, _ = ax.get_legend_handles_labels()\n",
    "\n",
    "ax.legend(handles, ['Masculino', 'Feminino'], fontsize = 14)\n",
    "\n",
    "ax"
   ]
  },
  {
   "cell_type": "markdown",
   "metadata": {
    "colab_type": "text",
    "id": "0fIFSxj8Tg2x"
   },
   "source": [
    "### Obtendo a média, mediana, valor máximo e desvio-padrão da variável RENDA segundo as UNIDADES DA FEDERAÇÃO\n"
   ]
  },
  {
   "cell_type": "code",
   "execution_count": 201,
   "metadata": {
    "colab": {},
    "colab_type": "code",
    "id": "91IxQFJoTg2x"
   },
   "outputs": [
    {
     "data": {
      "text/html": [
       "<div>\n",
       "<style scoped>\n",
       "    .dataframe tbody tr th:only-of-type {\n",
       "        vertical-align: middle;\n",
       "    }\n",
       "\n",
       "    .dataframe tbody tr th {\n",
       "        vertical-align: top;\n",
       "    }\n",
       "\n",
       "    .dataframe thead tr th {\n",
       "        text-align: left;\n",
       "    }\n",
       "\n",
       "    .dataframe thead tr:last-of-type th {\n",
       "        text-align: right;\n",
       "    }\n",
       "</style>\n",
       "<table border=\"1\" class=\"dataframe\">\n",
       "  <thead>\n",
       "    <tr>\n",
       "      <th></th>\n",
       "      <th colspan=\"4\" halign=\"left\">Renda</th>\n",
       "    </tr>\n",
       "    <tr>\n",
       "      <th></th>\n",
       "      <th>mean</th>\n",
       "      <th>median</th>\n",
       "      <th>max</th>\n",
       "      <th>std</th>\n",
       "    </tr>\n",
       "    <tr>\n",
       "      <th>UF</th>\n",
       "      <th></th>\n",
       "      <th></th>\n",
       "      <th></th>\n",
       "      <th></th>\n",
       "    </tr>\n",
       "  </thead>\n",
       "  <tbody>\n",
       "    <tr>\n",
       "      <th>Rondônia</th>\n",
       "      <td>1789.761223</td>\n",
       "      <td>1200.0</td>\n",
       "      <td>50000</td>\n",
       "      <td>2406.161161</td>\n",
       "    </tr>\n",
       "    <tr>\n",
       "      <th>Acre</th>\n",
       "      <td>1506.091782</td>\n",
       "      <td>900.0</td>\n",
       "      <td>30000</td>\n",
       "      <td>2276.233415</td>\n",
       "    </tr>\n",
       "    <tr>\n",
       "      <th>Amazonas</th>\n",
       "      <td>1445.130100</td>\n",
       "      <td>900.0</td>\n",
       "      <td>22000</td>\n",
       "      <td>1757.935591</td>\n",
       "    </tr>\n",
       "    <tr>\n",
       "      <th>Roraima</th>\n",
       "      <td>1783.588889</td>\n",
       "      <td>1000.0</td>\n",
       "      <td>20000</td>\n",
       "      <td>2079.659238</td>\n",
       "    </tr>\n",
       "    <tr>\n",
       "      <th>Pará</th>\n",
       "      <td>1399.076871</td>\n",
       "      <td>850.0</td>\n",
       "      <td>50000</td>\n",
       "      <td>2053.779555</td>\n",
       "    </tr>\n",
       "  </tbody>\n",
       "</table>\n",
       "</div>"
      ],
      "text/plain": [
       "                Renda                            \n",
       "                 mean  median    max          std\n",
       "UF                                               \n",
       "Rondônia  1789.761223  1200.0  50000  2406.161161\n",
       "Acre      1506.091782   900.0  30000  2276.233415\n",
       "Amazonas  1445.130100   900.0  22000  1757.935591\n",
       "Roraima   1783.588889  1000.0  20000  2079.659238\n",
       "Pará      1399.076871   850.0  50000  2053.779555"
      ]
     },
     "execution_count": 201,
     "metadata": {},
     "output_type": "execute_result"
    }
   ],
   "source": [
    "# modo 1 de visualizar usando a função GROUPBY().AGG({})\n",
    "\n",
    "report_20230223 = dados.groupby('UF').agg({'Renda':['mean', 'median', 'max', 'std']})\n",
    "report_20230223.rename(index = uf, inplace = True)\n",
    "report_20230223.head()"
   ]
  },
  {
   "cell_type": "code",
   "execution_count": 202,
   "metadata": {},
   "outputs": [
    {
     "data": {
      "text/html": [
       "<div>\n",
       "<style scoped>\n",
       "    .dataframe tbody tr th:only-of-type {\n",
       "        vertical-align: middle;\n",
       "    }\n",
       "\n",
       "    .dataframe tbody tr th {\n",
       "        vertical-align: top;\n",
       "    }\n",
       "\n",
       "    .dataframe thead tr th {\n",
       "        text-align: left;\n",
       "    }\n",
       "\n",
       "    .dataframe thead tr:last-of-type th {\n",
       "        text-align: right;\n",
       "    }\n",
       "</style>\n",
       "<table border=\"1\" class=\"dataframe\">\n",
       "  <thead>\n",
       "    <tr>\n",
       "      <th></th>\n",
       "      <th colspan=\"2\" halign=\"left\">mean</th>\n",
       "      <th colspan=\"2\" halign=\"left\">median</th>\n",
       "      <th colspan=\"2\" halign=\"left\">max</th>\n",
       "      <th colspan=\"2\" halign=\"left\">std</th>\n",
       "    </tr>\n",
       "    <tr>\n",
       "      <th>Sexo</th>\n",
       "      <th>Masculino</th>\n",
       "      <th>Feminino</th>\n",
       "      <th>Masculino</th>\n",
       "      <th>Feminino</th>\n",
       "      <th>Masculino</th>\n",
       "      <th>Feminino</th>\n",
       "      <th>Masculino</th>\n",
       "      <th>Feminino</th>\n",
       "    </tr>\n",
       "    <tr>\n",
       "      <th>UF</th>\n",
       "      <th></th>\n",
       "      <th></th>\n",
       "      <th></th>\n",
       "      <th></th>\n",
       "      <th></th>\n",
       "      <th></th>\n",
       "      <th></th>\n",
       "      <th></th>\n",
       "    </tr>\n",
       "  </thead>\n",
       "  <tbody>\n",
       "    <tr>\n",
       "      <th>Rondônia</th>\n",
       "      <td>1921.21</td>\n",
       "      <td>1414.85</td>\n",
       "      <td>1300.0</td>\n",
       "      <td>1000.0</td>\n",
       "      <td>50000</td>\n",
       "      <td>12500</td>\n",
       "      <td>2644.12</td>\n",
       "      <td>1476.69</td>\n",
       "    </tr>\n",
       "    <tr>\n",
       "      <th>Acre</th>\n",
       "      <td>1635.34</td>\n",
       "      <td>1128.62</td>\n",
       "      <td>1000.0</td>\n",
       "      <td>788.0</td>\n",
       "      <td>30000</td>\n",
       "      <td>15000</td>\n",
       "      <td>2493.55</td>\n",
       "      <td>1405.46</td>\n",
       "    </tr>\n",
       "    <tr>\n",
       "      <th>Amazonas</th>\n",
       "      <td>1539.99</td>\n",
       "      <td>1235.83</td>\n",
       "      <td>1000.0</td>\n",
       "      <td>800.0</td>\n",
       "      <td>22000</td>\n",
       "      <td>15000</td>\n",
       "      <td>1878.40</td>\n",
       "      <td>1436.59</td>\n",
       "    </tr>\n",
       "    <tr>\n",
       "      <th>Roraima</th>\n",
       "      <td>1875.79</td>\n",
       "      <td>1608.11</td>\n",
       "      <td>1125.0</td>\n",
       "      <td>875.0</td>\n",
       "      <td>20000</td>\n",
       "      <td>18000</td>\n",
       "      <td>2138.13</td>\n",
       "      <td>1957.18</td>\n",
       "    </tr>\n",
       "    <tr>\n",
       "      <th>Pará</th>\n",
       "      <td>1509.74</td>\n",
       "      <td>1131.88</td>\n",
       "      <td>980.0</td>\n",
       "      <td>788.0</td>\n",
       "      <td>50000</td>\n",
       "      <td>16000</td>\n",
       "      <td>2209.08</td>\n",
       "      <td>1587.78</td>\n",
       "    </tr>\n",
       "    <tr>\n",
       "      <th>Amapá</th>\n",
       "      <td>1930.40</td>\n",
       "      <td>1736.16</td>\n",
       "      <td>1337.5</td>\n",
       "      <td>920.0</td>\n",
       "      <td>15000</td>\n",
       "      <td>15580</td>\n",
       "      <td>1984.40</td>\n",
       "      <td>2084.58</td>\n",
       "    </tr>\n",
       "    <tr>\n",
       "      <th>Tocantins</th>\n",
       "      <td>1912.51</td>\n",
       "      <td>1381.80</td>\n",
       "      <td>1100.0</td>\n",
       "      <td>788.0</td>\n",
       "      <td>60000</td>\n",
       "      <td>9000</td>\n",
       "      <td>3291.59</td>\n",
       "      <td>1516.37</td>\n",
       "    </tr>\n",
       "    <tr>\n",
       "      <th>Maranhão</th>\n",
       "      <td>1165.17</td>\n",
       "      <td>723.75</td>\n",
       "      <td>788.0</td>\n",
       "      <td>480.0</td>\n",
       "      <td>30000</td>\n",
       "      <td>8500</td>\n",
       "      <td>2186.97</td>\n",
       "      <td>981.79</td>\n",
       "    </tr>\n",
       "    <tr>\n",
       "      <th>Piauí</th>\n",
       "      <td>1146.71</td>\n",
       "      <td>899.86</td>\n",
       "      <td>788.0</td>\n",
       "      <td>600.0</td>\n",
       "      <td>40000</td>\n",
       "      <td>30000</td>\n",
       "      <td>2485.36</td>\n",
       "      <td>2070.23</td>\n",
       "    </tr>\n",
       "    <tr>\n",
       "      <th>Ceará</th>\n",
       "      <td>1341.62</td>\n",
       "      <td>1085.80</td>\n",
       "      <td>800.0</td>\n",
       "      <td>788.0</td>\n",
       "      <td>25000</td>\n",
       "      <td>24000</td>\n",
       "      <td>1842.21</td>\n",
       "      <td>1770.04</td>\n",
       "    </tr>\n",
       "    <tr>\n",
       "      <th>Rio Grande do Norte</th>\n",
       "      <td>1459.05</td>\n",
       "      <td>1080.68</td>\n",
       "      <td>820.0</td>\n",
       "      <td>788.0</td>\n",
       "      <td>15500</td>\n",
       "      <td>12000</td>\n",
       "      <td>1764.86</td>\n",
       "      <td>1320.50</td>\n",
       "    </tr>\n",
       "    <tr>\n",
       "      <th>Paraíba</th>\n",
       "      <td>1364.99</td>\n",
       "      <td>1119.70</td>\n",
       "      <td>800.0</td>\n",
       "      <td>788.0</td>\n",
       "      <td>30000</td>\n",
       "      <td>12200</td>\n",
       "      <td>2030.74</td>\n",
       "      <td>1730.08</td>\n",
       "    </tr>\n",
       "    <tr>\n",
       "      <th>Pernambuco</th>\n",
       "      <td>1664.93</td>\n",
       "      <td>1252.24</td>\n",
       "      <td>1000.0</td>\n",
       "      <td>788.0</td>\n",
       "      <td>50000</td>\n",
       "      <td>30000</td>\n",
       "      <td>2565.96</td>\n",
       "      <td>1964.27</td>\n",
       "    </tr>\n",
       "    <tr>\n",
       "      <th>Alagoas</th>\n",
       "      <td>1157.75</td>\n",
       "      <td>1105.47</td>\n",
       "      <td>788.0</td>\n",
       "      <td>788.0</td>\n",
       "      <td>10000</td>\n",
       "      <td>11000</td>\n",
       "      <td>1250.91</td>\n",
       "      <td>1200.22</td>\n",
       "    </tr>\n",
       "    <tr>\n",
       "      <th>Sergipe</th>\n",
       "      <td>1205.57</td>\n",
       "      <td>877.15</td>\n",
       "      <td>800.0</td>\n",
       "      <td>665.0</td>\n",
       "      <td>16000</td>\n",
       "      <td>10000</td>\n",
       "      <td>1591.04</td>\n",
       "      <td>1135.09</td>\n",
       "    </tr>\n",
       "    <tr>\n",
       "      <th>Bahia</th>\n",
       "      <td>1557.50</td>\n",
       "      <td>1175.02</td>\n",
       "      <td>900.0</td>\n",
       "      <td>788.0</td>\n",
       "      <td>200000</td>\n",
       "      <td>30000</td>\n",
       "      <td>4070.04</td>\n",
       "      <td>1930.92</td>\n",
       "    </tr>\n",
       "    <tr>\n",
       "      <th>Minas Gerais</th>\n",
       "      <td>2283.16</td>\n",
       "      <td>1489.62</td>\n",
       "      <td>1400.0</td>\n",
       "      <td>900.0</td>\n",
       "      <td>100000</td>\n",
       "      <td>30000</td>\n",
       "      <td>3952.09</td>\n",
       "      <td>2341.42</td>\n",
       "    </tr>\n",
       "    <tr>\n",
       "      <th>Espírito Santo</th>\n",
       "      <td>2129.32</td>\n",
       "      <td>1752.71</td>\n",
       "      <td>1500.0</td>\n",
       "      <td>927.0</td>\n",
       "      <td>40000</td>\n",
       "      <td>100000</td>\n",
       "      <td>2637.16</td>\n",
       "      <td>5160.62</td>\n",
       "    </tr>\n",
       "    <tr>\n",
       "      <th>Rio de Janeiro</th>\n",
       "      <td>2777.55</td>\n",
       "      <td>1971.53</td>\n",
       "      <td>1510.0</td>\n",
       "      <td>1040.5</td>\n",
       "      <td>200000</td>\n",
       "      <td>120000</td>\n",
       "      <td>5562.92</td>\n",
       "      <td>4446.61</td>\n",
       "    </tr>\n",
       "    <tr>\n",
       "      <th>São Paulo</th>\n",
       "      <td>2947.74</td>\n",
       "      <td>1950.18</td>\n",
       "      <td>1820.0</td>\n",
       "      <td>1200.0</td>\n",
       "      <td>80000</td>\n",
       "      <td>50000</td>\n",
       "      <td>3748.02</td>\n",
       "      <td>2767.42</td>\n",
       "    </tr>\n",
       "    <tr>\n",
       "      <th>Paraná</th>\n",
       "      <td>2767.43</td>\n",
       "      <td>1796.26</td>\n",
       "      <td>1800.0</td>\n",
       "      <td>1200.0</td>\n",
       "      <td>200000</td>\n",
       "      <td>25000</td>\n",
       "      <td>4850.76</td>\n",
       "      <td>2249.06</td>\n",
       "    </tr>\n",
       "    <tr>\n",
       "      <th>Santa Catarina</th>\n",
       "      <td>2688.30</td>\n",
       "      <td>1792.11</td>\n",
       "      <td>2000.0</td>\n",
       "      <td>1283.5</td>\n",
       "      <td>80000</td>\n",
       "      <td>13000</td>\n",
       "      <td>3447.90</td>\n",
       "      <td>1693.54</td>\n",
       "    </tr>\n",
       "    <tr>\n",
       "      <th>Rio Grande do Sul</th>\n",
       "      <td>2488.39</td>\n",
       "      <td>1960.85</td>\n",
       "      <td>1600.0</td>\n",
       "      <td>1200.0</td>\n",
       "      <td>35000</td>\n",
       "      <td>25000</td>\n",
       "      <td>3049.80</td>\n",
       "      <td>2576.79</td>\n",
       "    </tr>\n",
       "    <tr>\n",
       "      <th>Mato Grosso do Sul</th>\n",
       "      <td>2603.48</td>\n",
       "      <td>1519.89</td>\n",
       "      <td>1600.0</td>\n",
       "      <td>988.0</td>\n",
       "      <td>42000</td>\n",
       "      <td>25000</td>\n",
       "      <td>3324.35</td>\n",
       "      <td>2083.73</td>\n",
       "    </tr>\n",
       "    <tr>\n",
       "      <th>Mato Grosso</th>\n",
       "      <td>2335.35</td>\n",
       "      <td>1604.29</td>\n",
       "      <td>1576.0</td>\n",
       "      <td>1000.0</td>\n",
       "      <td>35000</td>\n",
       "      <td>20000</td>\n",
       "      <td>2760.47</td>\n",
       "      <td>1765.82</td>\n",
       "    </tr>\n",
       "    <tr>\n",
       "      <th>Goiás</th>\n",
       "      <td>2222.63</td>\n",
       "      <td>1339.38</td>\n",
       "      <td>1500.0</td>\n",
       "      <td>900.0</td>\n",
       "      <td>30000</td>\n",
       "      <td>26000</td>\n",
       "      <td>2382.05</td>\n",
       "      <td>1497.90</td>\n",
       "    </tr>\n",
       "    <tr>\n",
       "      <th>Distrito Federal</th>\n",
       "      <td>4863.37</td>\n",
       "      <td>3269.88</td>\n",
       "      <td>2500.0</td>\n",
       "      <td>1500.0</td>\n",
       "      <td>100000</td>\n",
       "      <td>30000</td>\n",
       "      <td>6243.91</td>\n",
       "      <td>4061.46</td>\n",
       "    </tr>\n",
       "  </tbody>\n",
       "</table>\n",
       "</div>"
      ],
      "text/plain": [
       "                         mean             median                max           \\\n",
       "Sexo                Masculino Feminino Masculino Feminino Masculino Feminino   \n",
       "UF                                                                             \n",
       "Rondônia              1921.21  1414.85    1300.0   1000.0     50000    12500   \n",
       "Acre                  1635.34  1128.62    1000.0    788.0     30000    15000   \n",
       "Amazonas              1539.99  1235.83    1000.0    800.0     22000    15000   \n",
       "Roraima               1875.79  1608.11    1125.0    875.0     20000    18000   \n",
       "Pará                  1509.74  1131.88     980.0    788.0     50000    16000   \n",
       "Amapá                 1930.40  1736.16    1337.5    920.0     15000    15580   \n",
       "Tocantins             1912.51  1381.80    1100.0    788.0     60000     9000   \n",
       "Maranhão              1165.17   723.75     788.0    480.0     30000     8500   \n",
       "Piauí                 1146.71   899.86     788.0    600.0     40000    30000   \n",
       "Ceará                 1341.62  1085.80     800.0    788.0     25000    24000   \n",
       "Rio Grande do Norte   1459.05  1080.68     820.0    788.0     15500    12000   \n",
       "Paraíba               1364.99  1119.70     800.0    788.0     30000    12200   \n",
       "Pernambuco            1664.93  1252.24    1000.0    788.0     50000    30000   \n",
       "Alagoas               1157.75  1105.47     788.0    788.0     10000    11000   \n",
       "Sergipe               1205.57   877.15     800.0    665.0     16000    10000   \n",
       "Bahia                 1557.50  1175.02     900.0    788.0    200000    30000   \n",
       "Minas Gerais          2283.16  1489.62    1400.0    900.0    100000    30000   \n",
       "Espírito Santo        2129.32  1752.71    1500.0    927.0     40000   100000   \n",
       "Rio de Janeiro        2777.55  1971.53    1510.0   1040.5    200000   120000   \n",
       "São Paulo             2947.74  1950.18    1820.0   1200.0     80000    50000   \n",
       "Paraná                2767.43  1796.26    1800.0   1200.0    200000    25000   \n",
       "Santa Catarina        2688.30  1792.11    2000.0   1283.5     80000    13000   \n",
       "Rio Grande do Sul     2488.39  1960.85    1600.0   1200.0     35000    25000   \n",
       "Mato Grosso do Sul    2603.48  1519.89    1600.0    988.0     42000    25000   \n",
       "Mato Grosso           2335.35  1604.29    1576.0   1000.0     35000    20000   \n",
       "Goiás                 2222.63  1339.38    1500.0    900.0     30000    26000   \n",
       "Distrito Federal      4863.37  3269.88    2500.0   1500.0    100000    30000   \n",
       "\n",
       "                          std           \n",
       "Sexo                Masculino Feminino  \n",
       "UF                                      \n",
       "Rondônia              2644.12  1476.69  \n",
       "Acre                  2493.55  1405.46  \n",
       "Amazonas              1878.40  1436.59  \n",
       "Roraima               2138.13  1957.18  \n",
       "Pará                  2209.08  1587.78  \n",
       "Amapá                 1984.40  2084.58  \n",
       "Tocantins             3291.59  1516.37  \n",
       "Maranhão              2186.97   981.79  \n",
       "Piauí                 2485.36  2070.23  \n",
       "Ceará                 1842.21  1770.04  \n",
       "Rio Grande do Norte   1764.86  1320.50  \n",
       "Paraíba               2030.74  1730.08  \n",
       "Pernambuco            2565.96  1964.27  \n",
       "Alagoas               1250.91  1200.22  \n",
       "Sergipe               1591.04  1135.09  \n",
       "Bahia                 4070.04  1930.92  \n",
       "Minas Gerais          3952.09  2341.42  \n",
       "Espírito Santo        2637.16  5160.62  \n",
       "Rio de Janeiro        5562.92  4446.61  \n",
       "São Paulo             3748.02  2767.42  \n",
       "Paraná                4850.76  2249.06  \n",
       "Santa Catarina        3447.90  1693.54  \n",
       "Rio Grande do Sul     3049.80  2576.79  \n",
       "Mato Grosso do Sul    3324.35  2083.73  \n",
       "Mato Grosso           2760.47  1765.82  \n",
       "Goiás                 2382.05  1497.90  \n",
       "Distrito Federal      6243.91  4061.46  "
      ]
     },
     "execution_count": 202,
     "metadata": {},
     "output_type": "execute_result"
    }
   ],
   "source": [
    "# modo 2 de visualizar usando a função CROSSTAB e AGGFUNC[]\n",
    "\n",
    "report_20230224 = pd.crosstab(dados.UF, dados.Sexo,\n",
    "                              aggfunc = ['mean','median', 'max', 'std'],\n",
    "                              values = dados['Renda'])\n",
    "report_20230224.rename(index = uf, columns = sexo, inplace = True)\n",
    "report_20230224.round(2)"
   ]
  },
  {
   "cell_type": "markdown",
   "metadata": {
    "colab_type": "text",
    "id": "6NfAKimkTg2y"
   },
   "source": [
    "### Nessa análise, vamos plotar um gráfico de boxplot que mostra a distribuição da renda dos indivíduos de diferentes unidades da federação. A seleção é feita apenas para rendas menores do que 10.000 reais.\n",
    "<br>\n",
    "<li>O objetivo dessa análise é identificar diferenças na distribuição de renda entre as unidades da federação, permitindo comparações entre elas. Essa informação pode ser utilizada, por exemplo, para entender melhor as desigualdades socioeconômicas entre as regiões do país e orientar políticas públicas para reduzir essas desigualdades.</li>"
   ]
  },
  {
   "cell_type": "code",
   "execution_count": 203,
   "metadata": {
    "colab": {},
    "colab_type": "code",
    "id": "XdEGG3blTg2z"
   },
   "outputs": [
    {
     "data": {
      "text/plain": [
       "<AxesSubplot:title={'center':' RENDA segundo as UNIDADES DA FEDERAÇÃO'}, xlabel='Renda', ylabel='UF'>"
      ]
     },
     "execution_count": 203,
     "metadata": {},
     "output_type": "execute_result"
    },
    {
     "data": {
      "image/png": "[encoded data removed]",
      "text/plain": [
       "<Figure size 1008x864 with 1 Axes>"
      ]
     },
     "metadata": {
      "needs_background": "light"
     },
     "output_type": "display_data"
    }
   ],
   "source": [
    "selecao1 = (dados['Renda'] < 10000) \n",
    "report_renda_filter_20230223 = dados[selecao1]\n",
    "\n",
    "ax = sns.boxplot(x = 'Renda',\n",
    "                 y = 'UF',\n",
    "                 data = report_renda_filter_20230223,\n",
    "                 orient = 'h')\n",
    "ax.figure.set_size_inches(14,12)\n",
    "ax.set_title(' RENDA segundo as UNIDADES DA FEDERAÇÃO',fontsize = 18)\n",
    "ax.set_xlabel('Renda',fontsize = 18)\n",
    "ax.set_ylabel('UF', fontsize = 20)\n",
    "ax.set_yticklabels([key for key in uf.values()], fontsize = 16)\n",
    "ax"
   ]
  },
  {
   "cell_type": "code",
   "execution_count": null,
   "metadata": {},
   "outputs": [],
   "source": []
  }
 ],
 "metadata": {
  "colab": {
   "name": "Análise_Descritiva.ipynb",
   "provenance": [],
   "toc_visible": true,
   "version": "0.3.2"
  },
  "kernelspec": {
   "display_name": "Python 3 (ipykernel)",
   "language": "python",
   "name": "python3"
  },
  "language_info": {
   "codemirror_mode": {
    "name": "ipython",
    "version": 3
   },
   "file_extension": ".py",
   "mimetype": "text/x-python",
   "name": "python",
   "nbconvert_exporter": "python",
   "pygments_lexer": "ipython3",
   "version": "3.9.7"
  }
 },
 "nbformat": 4,
 "nbformat_minor": 1
}
